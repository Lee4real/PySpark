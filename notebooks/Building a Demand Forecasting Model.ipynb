{
  "cells": [
    {
      "cell_type": "markdown",
      "id": "RZCt4zOFflcu",
      "metadata": {
        "id": "RZCt4zOFflcu"
      },
      "source": [
        "# Building a Demand Forecasting Model"
      ]
    },
    {
      "cell_type": "markdown",
      "id": "6918e18a-c248-4929-b552-7aee2057c0eb",
      "metadata": {
        "id": "6918e18a-c248-4929-b552-7aee2057c0eb"
      },
      "source": [
        "![Shopping trolley in front of a laptop](./iStock-1249219777.jpg)\n",
        "\n",
        "It's simple to buy any product with a click and have it delivered to your door. Online shopping has been rapidly evolving over the last few years, making our lives easier. But behind the scenes, e-commerce companies face a complex challenge that needs to be addressed.\n",
        "\n",
        "Uncertainty plays a big role in how the supply chains plan and organize their operations to ensure that the products are delivered on time. These uncertainties can lead to challenges such as stockouts, delayed deliveries, and increased operational costs.\n",
        "\n",
        "You work for the Sales & Operations Planning (S&OP) team at a multinational e-commerce company. They need your help to assist in planning for the upcoming end-of-the-year sales. They want to use your insights to plan for promotional opportunities and manage their inventory. This effort is to ensure they have the right products in stock when needed and ensure their customers are satisfied with the prompt delivery to their doorstep.\n",
        "\n",
        "\n",
        "## The Data\n",
        "\n",
        "You are provided with a sales dataset to use. A summary and preview are provided below.\n",
        "\n",
        "# Online Retail.csv\n",
        "\n",
        "| Column     | Description              |\n",
        "|------------|--------------------------|\n",
        "| `'InvoiceNo'` | A 6-digit number uniquely assigned to each transaction |\n",
        "| `'StockCode'` | A 5-digit number uniquely assigned to each distinct product |\n",
        "| `'Description'` | The product name |\n",
        "| `'Quantity'` | The quantity of each product (item) per transaction |\n",
        "| `'UnitPrice'` | Product price per unit |\n",
        "| `'CustomerID'` | A 5-digit number uniquely assigned to each customer |\n",
        "| `'Country'` | The name of the country where each customer resides |\n",
        "| `'InvoiceDate'` | The day and time when each transaction was generated `\"MM/DD/YYYY\"` |\n",
        "| `'Year'` | The year when each transaction was generated |\n",
        "| `'Month'` | The month when each transaction was generated |\n",
        "| `'Week'` | The week when each transaction was generated (`1`-`52`) |\n",
        "| `'Day'` | The day of the month when each transaction was generated (`1`-`31`) |\n",
        "| `'DayOfWeek'` | The day of the weeke when each transaction was generated <br>(`0` = Monday, `6` = Sunday) |"
      ]
    },
    {
      "cell_type": "markdown",
      "id": "c35e86da",
      "metadata": {},
      "source": [
        "## Download PySpaek"
      ]
    },
    {
      "cell_type": "code",
      "execution_count": 24,
      "id": "Tb6PMvBMf3Iu",
      "metadata": {
        "id": "Tb6PMvBMf3Iu"
      },
      "outputs": [],
      "source": [
        "!pip install pyspark -q"
      ]
    },
    {
      "cell_type": "code",
      "execution_count": 25,
      "id": "81a07c66-a3d4-4fdd-9c3c-7b3a19b80d62",
      "metadata": {
        "executionCancelledAt": null,
        "executionTime": 6559,
        "id": "81a07c66-a3d4-4fdd-9c3c-7b3a19b80d62",
        "jupyter": {
          "outputs_hidden": false,
          "source_hidden": false
        },
        "lastExecutedAt": 1706276602563,
        "lastScheduledRunId": null,
        "lastSuccessfullyExecutedCode": "# Import required libraries\nfrom pyspark.sql import SparkSession\nfrom pyspark.ml.feature import VectorAssembler\nfrom pyspark.ml import Pipeline\nfrom pyspark.ml.regression import RandomForestRegressor\nfrom pyspark.sql.functions import col, dayofmonth, month, year,  to_date, to_timestamp, weekofyear, dayofweek\nfrom pyspark.ml.feature import StringIndexer\nfrom pyspark.ml.evaluation import RegressionEvaluator\n\n# Initialize Spark session\nmy_spark = SparkSession.builder.appName(\"SalesForecast\").getOrCreate()\n\n# Importing sales data\nsales_data = my_spark.read.csv(\n    \"Online Retail.csv\", header=True, inferSchema=True, sep=\",\")\n\n# Convert InvoiceDate to datetime \nsales_data = sales_data.withColumn(\"InvoiceDate\", to_date(\n    to_timestamp(col(\"InvoiceDate\"), \"d/M/yyyy H:mm\")))",
        "outputsMetadata": {
          "0": {
            "height": 59,
            "type": "stream"
          },
          "1": {
            "height": 59,
            "type": "stream"
          },
          "2": {
            "height": 38,
            "type": "stream"
          }
        }
      },
      "outputs": [],
      "source": [
        "# Import required libraries\n",
        "from pyspark.sql import SparkSession\n",
        "from pyspark.ml.feature import VectorAssembler\n",
        "from pyspark.ml import Pipeline\n",
        "from pyspark.ml.regression import RandomForestRegressor\n",
        "from pyspark.sql.functions import col, dayofmonth, month, year,  to_date, to_timestamp, weekofyear, dayofweek\n",
        "from pyspark.ml.feature import StringIndexer\n",
        "from pyspark.ml.evaluation import RegressionEvaluator\n",
        "\n",
        "# Initialize Spark session\n",
        "my_spark = SparkSession.builder.appName(\"SalesForecast\").getOrCreate()\n",
        "\n",
        "# Importing sales data\n",
        "sales_data = my_spark.read.csv(\n",
        "    \"dat/Online Retail.csv\", header=True, inferSchema=True, sep=\",\")\n",
        "\n",
        "# Convert InvoiceDate to datetime\n",
        "sales_data = sales_data.withColumn(\"InvoiceDate\", to_date(\n",
        "    to_timestamp(col(\"InvoiceDate\"), \"d/M/yyyy H:mm\")))"
      ]
    },
    {
      "cell_type": "code",
      "execution_count": 26,
      "id": "DSgZrvrHIaQa",
      "metadata": {
        "colab": {
          "base_uri": "https://localhost:8080/"
        },
        "id": "DSgZrvrHIaQa",
        "outputId": "02a97793-169a-4135-9f0f-f9e4d81cfe78"
      },
      "outputs": [
        {
          "name": "stdout",
          "output_type": "stream",
          "text": [
            "Number of rows:  384721\n",
            "Number of columns:  13\n"
          ]
        }
      ],
      "source": [
        "print(\"Number of rows: \", sales_data.count())\n",
        "print(\"Number of columns: \", len(sales_data.columns))"
      ]
    },
    {
      "cell_type": "code",
      "execution_count": 27,
      "id": "NcRDx2HBIsMa",
      "metadata": {
        "colab": {
          "base_uri": "https://localhost:8080/"
        },
        "id": "NcRDx2HBIsMa",
        "outputId": "6a7c417b-4928-4800-84a5-da5963d7fa24"
      },
      "outputs": [
        {
          "name": "stdout",
          "output_type": "stream",
          "text": [
            "+---------+---------+--------------------+--------+---------+----------+--------------+-----------+----+-----+----+---+---------+\n",
            "|InvoiceNo|StockCode|         Description|Quantity|UnitPrice|CustomerID|       Country|InvoiceDate|Year|Month|Week|Day|DayOfWeek|\n",
            "+---------+---------+--------------------+--------+---------+----------+--------------+-----------+----+-----+----+---+---------+\n",
            "|   536365|   85123A|WHITE HANGING HEA...|       6|     2.55|     17850|United Kingdom| 2010-01-12|2010|    1|   2| 12|        1|\n",
            "|   536365|    71053| WHITE METAL LANTERN|       6|     3.39|     17850|United Kingdom| 2010-01-12|2010|    1|   2| 12|        1|\n",
            "|   536365|   84406B|CREAM CUPID HEART...|       8|     2.75|     17850|United Kingdom| 2010-01-12|2010|    1|   2| 12|        1|\n",
            "|   536365|   84029G|KNITTED UNION FLA...|       6|     3.39|     17850|United Kingdom| 2010-01-12|2010|    1|   2| 12|        1|\n",
            "|   536365|   84029E|RED WOOLLY HOTTIE...|       6|     3.39|     17850|United Kingdom| 2010-01-12|2010|    1|   2| 12|        1|\n",
            "|   536365|    22752|SET 7 BABUSHKA NE...|       2|     7.65|     17850|United Kingdom| 2010-01-12|2010|    1|   2| 12|        1|\n",
            "|   536365|    21730|GLASS STAR FROSTE...|       6|     4.25|     17850|United Kingdom| 2010-01-12|2010|    1|   2| 12|        1|\n",
            "|   536366|    22633|HAND WARMER UNION...|       6|     1.85|     17850|United Kingdom| 2010-01-12|2010|    1|   2| 12|        1|\n",
            "|   536366|    22632|HAND WARMER RED P...|       6|     1.85|     17850|United Kingdom| 2010-01-12|2010|    1|   2| 12|        1|\n",
            "|   536367|    84879|ASSORTED COLOUR B...|      32|     1.69|     13047|United Kingdom| 2010-01-12|2010|    1|   2| 12|        1|\n",
            "|   536367|    22745|POPPY'S PLAYHOUSE...|       6|      2.1|     13047|United Kingdom| 2010-01-12|2010|    1|   2| 12|        1|\n",
            "|   536367|    22748|POPPY'S PLAYHOUSE...|       6|      2.1|     13047|United Kingdom| 2010-01-12|2010|    1|   2| 12|        1|\n",
            "|   536367|    22749|FELTCRAFT PRINCES...|       8|     3.75|     13047|United Kingdom| 2010-01-12|2010|    1|   2| 12|        1|\n",
            "|   536367|    22310|IVORY KNITTED MUG...|       6|     1.65|     13047|United Kingdom| 2010-01-12|2010|    1|   2| 12|        1|\n",
            "|   536367|    84969|BOX OF 6 ASSORTED...|       6|     4.25|     13047|United Kingdom| 2010-01-12|2010|    1|   2| 12|        1|\n",
            "|   536367|    22623|BOX OF VINTAGE JI...|       3|     4.95|     13047|United Kingdom| 2010-01-12|2010|    1|   2| 12|        1|\n",
            "|   536367|    22622|BOX OF VINTAGE AL...|       2|     9.95|     13047|United Kingdom| 2010-01-12|2010|    1|   2| 12|        1|\n",
            "|   536367|    21754|HOME BUILDING BLO...|       3|     5.95|     13047|United Kingdom| 2010-01-12|2010|    1|   2| 12|        1|\n",
            "|   536367|    21755|LOVE BUILDING BLO...|       3|     5.95|     13047|United Kingdom| 2010-01-12|2010|    1|   2| 12|        1|\n",
            "|   536367|    21777|RECIPE BOX WITH M...|       4|     7.95|     13047|United Kingdom| 2010-01-12|2010|    1|   2| 12|        1|\n",
            "+---------+---------+--------------------+--------+---------+----------+--------------+-----------+----+-----+----+---+---------+\n",
            "only showing top 20 rows\n",
            "\n"
          ]
        }
      ],
      "source": [
        "sales_data.show()"
      ]
    },
    {
      "cell_type": "markdown",
      "id": "wW0wY7lsgkC-",
      "metadata": {
        "id": "wW0wY7lsgkC-"
      },
      "source": [
        "## Aggregate the data"
      ]
    },
    {
      "cell_type": "code",
      "execution_count": 28,
      "id": "zKlCY8IhhKWe",
      "metadata": {
        "id": "zKlCY8IhhKWe"
      },
      "outputs": [],
      "source": [
        "# Aggregate data into daily intervals\n",
        "daily_sales_data = sales_data.groupBy(\"Country\", \"StockCode\", \"InvoiceDate\", \"Year\", \"Month\", \"Day\", \"Week\", \"DayOfWeek\").agg({\"Quantity\": \"sum\",\"UnitPrice\": \"avg\"})"
      ]
    },
    {
      "cell_type": "code",
      "execution_count": 29,
      "id": "BV9p_UethcWi",
      "metadata": {
        "id": "BV9p_UethcWi"
      },
      "outputs": [],
      "source": [
        "# Rename the target column\n",
        "daily_sales_data = daily_sales_data.withColumnRenamed(\n",
        "    \"sum(Quantity)\", \"Quantity\")"
      ]
    },
    {
      "cell_type": "markdown",
      "id": "T_u8qJP9gpDY",
      "metadata": {
        "id": "T_u8qJP9gpDY"
      },
      "source": [
        "## Splitting your dataset"
      ]
    },
    {
      "cell_type": "code",
      "execution_count": 30,
      "id": "gMTax8lLheAU",
      "metadata": {
        "id": "gMTax8lLheAU"
      },
      "outputs": [],
      "source": [
        "# Split the data into two sets based on the spliting date, \"2011-09-25\". All data up to and including this date should be in the training set, while data after this date should be in the testing set. Return a pandas Dataframe, pd_daily_train_data, containing, at least, the columns [\"Country\", \"StockCode\", \"InvoiceDate\", \"Quantity\"].\n",
        "\n",
        "split_date_train_test = \"2011-09-25\""
      ]
    },
    {
      "cell_type": "code",
      "execution_count": 31,
      "id": "S4YNmsROhvAz",
      "metadata": {
        "id": "S4YNmsROhvAz"
      },
      "outputs": [],
      "source": [
        "# Creating the train and test datasets\n",
        "train_data = daily_sales_data.filter(\n",
        "    col(\"InvoiceDate\") <= split_date_train_test)\n",
        "test_data = daily_sales_data.filter(col(\"InvoiceDate\") > split_date_train_test)"
      ]
    },
    {
      "cell_type": "code",
      "execution_count": 32,
      "id": "2swf9KNahy2O",
      "metadata": {
        "id": "2swf9KNahy2O"
      },
      "outputs": [],
      "source": [
        "pd_daily_train_data = train_data.toPandas()"
      ]
    },
    {
      "cell_type": "code",
      "execution_count": 33,
      "id": "r7ZOp76Bhzcb",
      "metadata": {
        "id": "r7ZOp76Bhzcb"
      },
      "outputs": [],
      "source": [
        "# Creating indexer for categorical columns\n",
        "country_indexer = StringIndexer(\n",
        "    inputCol=\"Country\", outputCol=\"CountryIndex\").setHandleInvalid(\"keep\")\n",
        "stock_code_indexer = StringIndexer(\n",
        "    inputCol=\"StockCode\", outputCol=\"StockCodeIndex\").setHandleInvalid(\"keep\")"
      ]
    },
    {
      "cell_type": "code",
      "execution_count": 34,
      "id": "_frnbvhyh2zj",
      "metadata": {
        "id": "_frnbvhyh2zj"
      },
      "outputs": [],
      "source": [
        "# Selectiong features columns\n",
        "feature_cols = [\"CountryIndex\", \"StockCodeIndex\", \"Month\", \"Year\",\n",
        "                \"DayOfWeek\", \"Day\", \"Week\"]"
      ]
    },
    {
      "cell_type": "code",
      "execution_count": 35,
      "id": "8tQnCrq5h6my",
      "metadata": {
        "id": "8tQnCrq5h6my"
      },
      "outputs": [],
      "source": [
        "# Using vector assembler to combine features\n",
        "assembler = VectorAssembler(inputCols=feature_cols, outputCol=\"features\")"
      ]
    },
    {
      "cell_type": "markdown",
      "id": "2EHlpkjPgw1b",
      "metadata": {
        "id": "2EHlpkjPgw1b"
      },
      "source": [
        "## Building your regression model"
      ]
    },
    {
      "cell_type": "code",
      "execution_count": 36,
      "id": "dVUWN2VmjaxZ",
      "metadata": {
        "id": "dVUWN2VmjaxZ"
      },
      "outputs": [],
      "source": [
        "# Initializing a Random Forest model\n",
        "rf = RandomForestRegressor(\n",
        "    featuresCol=\"features\",\n",
        "    labelCol=\"Quantity\",\n",
        "    maxBins=4000\n",
        ")"
      ]
    },
    {
      "cell_type": "code",
      "execution_count": 37,
      "id": "wjWJKOiajbZR",
      "metadata": {
        "id": "wjWJKOiajbZR"
      },
      "outputs": [],
      "source": [
        "# Create a pipeline for staging the processes\n",
        "pipeline = Pipeline(stages=[country_indexer, stock_code_indexer, assembler, rf])"
      ]
    },
    {
      "cell_type": "code",
      "execution_count": 38,
      "id": "nTX19bZ-jeWH",
      "metadata": {
        "id": "nTX19bZ-jeWH"
      },
      "outputs": [],
      "source": [
        "# Training the model\n",
        "model = pipeline.fit(train_data)"
      ]
    },
    {
      "cell_type": "markdown",
      "id": "5s3JAgt3g7p7",
      "metadata": {
        "id": "5s3JAgt3g7p7"
      },
      "source": [
        "## Evaluating the model"
      ]
    },
    {
      "cell_type": "code",
      "execution_count": 39,
      "id": "gk_u2_fzkZ2Q",
      "metadata": {
        "id": "gk_u2_fzkZ2Q"
      },
      "outputs": [],
      "source": [
        "# Getting test predictions\n",
        "test_predictions = model.transform(test_data)\n",
        "test_predictions = test_predictions.withColumn(\n",
        "    \"prediction\", col(\"prediction\").cast(\"double\"))"
      ]
    },
    {
      "cell_type": "markdown",
      "id": "v4G9RaNzlBAu",
      "metadata": {
        "id": "v4G9RaNzlBAu"
      },
      "source": [
        " Provide the Mean Absolute Error (MAE) for your forecast? Return a double/floar \"mae\""
      ]
    },
    {
      "cell_type": "code",
      "execution_count": 40,
      "id": "17jHnQ6Sk9Mf",
      "metadata": {
        "id": "17jHnQ6Sk9Mf"
      },
      "outputs": [],
      "source": [
        "# Initializing the evaluator\n",
        "mae_evaluator = RegressionEvaluator(\n",
        "    labelCol=\"Quantity\", predictionCol=\"prediction\", metricName=\"mae\")"
      ]
    },
    {
      "cell_type": "code",
      "execution_count": 41,
      "id": "jPGhOE2XlGh2",
      "metadata": {
        "id": "jPGhOE2XlGh2"
      },
      "outputs": [],
      "source": [
        "# Obtaining MAE\n",
        "mae = mae_evaluator.evaluate(test_predictions)"
      ]
    },
    {
      "cell_type": "markdown",
      "id": "aDLh_BVEhB-g",
      "metadata": {
        "id": "aDLh_BVEhB-g"
      },
      "source": [
        "## Identify the quantity sold at specific week"
      ]
    },
    {
      "cell_type": "markdown",
      "id": "I0-KzMUSlP3s",
      "metadata": {
        "id": "I0-KzMUSlP3s"
      },
      "source": [
        "How many units will be sold during the  week 39 of 2011? Return an integer `quantity_sold_w39`."
      ]
    },
    {
      "cell_type": "code",
      "execution_count": 47,
      "id": "b5106e04-f9da-459f-a1cc-14e437fe001d",
      "metadata": {
        "executionCancelledAt": null,
        "executionTime": 46,
        "id": "b5106e04-f9da-459f-a1cc-14e437fe001d",
        "jupyter": {
          "outputs_hidden": false,
          "source_hidden": false
        },
        "lastExecutedAt": 1706210604740,
        "lastScheduledRunId": null,
        "lastSuccessfullyExecutedCode": "# Insert the code necessary to solve the assigned problems. Use as many code cells as you need.\n"
      },
      "outputs": [],
      "source": [
        "# Getting the weekly sales of all countries\n",
        "weekly_test_predictions = test_predictions.groupBy(\"Year\", \"Week\").agg({\"prediction\": \"sum\"})"
      ]
    },
    {
      "cell_type": "code",
      "execution_count": 48,
      "id": "SDgrueeIlZlb",
      "metadata": {
        "id": "SDgrueeIlZlb"
      },
      "outputs": [],
      "source": [
        "# Finding the quantity sold on the 39 week.\n",
        "promotion_week = weekly_test_predictions.filter(col('Week')==39)"
      ]
    },
    {
      "cell_type": "code",
      "execution_count": 49,
      "id": "5tMBPG3wleln",
      "metadata": {
        "id": "5tMBPG3wleln"
      },
      "outputs": [],
      "source": [
        "# Storing prediction as quantity_sold_w30\n",
        "quantity_sold_w39 = int(promotion_week.select(\"sum(prediction)\").collect()[0][0])"
      ]
    },
    {
      "cell_type": "markdown",
      "id": "U2_ZjuZulrCB",
      "metadata": {
        "id": "U2_ZjuZulrCB"
      },
      "source": [
        "# Stop the Spark session"
      ]
    },
    {
      "cell_type": "code",
      "execution_count": 50,
      "id": "rykkb3JDlqSx",
      "metadata": {
        "id": "rykkb3JDlqSx"
      },
      "outputs": [],
      "source": [
        "my_spark.stop()"
      ]
    }
  ],
  "metadata": {
    "colab": {
      "provenance": []
    },
    "kernelspec": {
      "display_name": "Python 3 (ipykernel)",
      "language": "python",
      "name": "python3"
    },
    "language_info": {
      "codemirror_mode": {
        "name": "ipython",
        "version": 3
      },
      "file_extension": ".py",
      "mimetype": "text/x-python",
      "name": "python",
      "nbconvert_exporter": "python",
      "pygments_lexer": "ipython3",
      "version": "3.8.10"
    }
  },
  "nbformat": 4,
  "nbformat_minor": 5
}
